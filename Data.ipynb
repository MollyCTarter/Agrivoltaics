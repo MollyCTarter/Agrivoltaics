{
 "cells": [
  {
   "cell_type": "code",
   "execution_count": 256,
   "id": "c53cbb1e-d65c-479a-a192-454611155aa8",
   "metadata": {},
   "outputs": [],
   "source": [
    "# Modules\n",
    "import pandas as pd\n",
    "import requests\n",
    "from datetime import datetime, timezone # for time column and EST timezone conversion\n",
    "pd.set_option('display.max_rows', None)\n",
    "pd.set_option('display.max_columns', None)"
   ]
  },
  {
   "cell_type": "code",
   "execution_count": 257,
   "id": "ce03b734-7a94-4f3f-86f0-a66e0991bef8",
   "metadata": {},
   "outputs": [],
   "source": [
    "# API URL and params in case request gets denied\n",
    "api_url = \"https://developer.nrel.gov/api/pvwatts/v8.json\" # endpoint with the argivoltaics data\n",
    "params = {\n",
    "    'api_key': 'LMpKxIwqBHBN9TJ9x4qtzhR2cD6mQUpZXBAURgbb',\n",
    "    'system_capacity' : 0.05,\n",
    "    'module_type' : 0,\n",
    "    'losses' : 0,\n",
    "    'array_type' : 0,\n",
    "    'tilt' : 0,\n",
    "    'azimuth' : 0,\n",
    "    'lat' : 38.972360, # Maryland latitude\n",
    "    'lon' : -76.937732, # Maryland longitude\n",
    "    'timeframe' : 'hourly' # dataset is hourly, not monthly or annually\n",
    "}"
   ]
  },
  {
   "cell_type": "code",
   "execution_count": 258,
   "id": "62abdb84-65d5-463f-8356-0e1f3617925d",
   "metadata": {},
   "outputs": [],
   "source": [
    "response = requests.get(api_url, params = params)\n",
    "json = response.json()\n",
    "outputs = json['outputs']\n",
    "current_time = datetime.now(timezone.utc)\n",
    "length = len(outputs['ac'])\n",
    "# useful to know : 720 hours is a month, dataset shifts every hour\n",
    "times = pd.date_range(end=current_time, periods=length ,freq='h')\n",
    "hourly_data = {\n",
    "    'Time EST' : times,\n",
    "    'Hourly alternating current system output(Wac)' : outputs['ac'],\n",
    "    'Hourly plane of array irradiance(W/m2)' : outputs['poa'],\n",
    "    'Hourly beam normal irradiance(W/m2)' : outputs['dn'],\n",
    "    'Hourly direct current array output(Wdc)' : outputs['dc'],\n",
    "    'Hourly diffuse irradiance(W/m2)' : outputs['df'],\n",
    "    'Hourly ambient temperature(C)' : outputs['tamb'],\n",
    "    'Hourly module temperature(C)' : outputs['tcell'],\n",
    "    'Hourly windspeed(m/s)' : outputs['wspd'],\n",
    "    'Hourly albedo values' : outputs['alb']\n",
    "} # created dictionary with hourly data from the dataset\n",
    "df = pd.DataFrame(hourly_data) # created dataframe with the dictionary\n",
    "df['Time EST'] = df['Time EST'].dt.tz_convert('US/Eastern') # want the time to reflect the current time (EST)\n",
    "df.set_index('Time EST', inplace=True) # make the time the first column\n",
    "df.to_csv('agrivoltaics.csv', index=True) # CSV file created"
   ]
  },
  {
   "cell_type": "code",
   "execution_count": null,
   "id": "82adc7ba-ed38-495e-83fa-e3abc0bcd613",
   "metadata": {},
   "outputs": [],
   "source": []
  }
 ],
 "metadata": {
  "kernelspec": {
   "display_name": "Python 3 (ipykernel)",
   "language": "python",
   "name": "python3"
  },
  "language_info": {
   "codemirror_mode": {
    "name": "ipython",
    "version": 3
   },
   "file_extension": ".py",
   "mimetype": "text/x-python",
   "name": "python",
   "nbconvert_exporter": "python",
   "pygments_lexer": "ipython3",
   "version": "3.13.2"
  }
 },
 "nbformat": 4,
 "nbformat_minor": 5
}
